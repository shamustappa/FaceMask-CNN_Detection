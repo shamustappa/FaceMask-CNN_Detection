{
 "cells": [
  {
   "cell_type": "markdown",
   "id": "52baf850-410f-41c5-86a0-d8523e633b70",
   "metadata": {},
   "source": [
    "### Face Mask Detector Development\n",
    "\n",
    "Face mask detection unfolds in two pivotal steps: the initial detection of faces within an image, followed by the classification of each detected face based on the presence and correctness of mask wearing.\n",
    "\n",
    "#### 1. **Process Overview:**\n",
    "- **Step 1:** Utilize advanced face detection algorithms to accurately identify and isolate faces within diverse images.\n",
    "- **Step 2:** Implement a classification model to categorize the detected faces into one of three distinct classes - 'no mask', 'mask worn incorrectly', or 'with mask'.\n",
    "\n",
    "#### 2. **Model Architecture:**\n",
    "- **Base Model:** Leverage MobileNet for its efficiency and accuracy as the foundational architecture.\n",
    "- **Custom Head:** Engineer and train a custom head layer tailored to classify faces into the three predefined classes, enhancing the base model’s applicability to the specific task of mask detection.\n",
    "\n",
    "#### 3. **Reference and Adaptation:**\n",
    "- **Inspiration Source:** The model’s structure and training approach is inspired and adapted from a [previously established model](https://www.pyimagesearch.com/2020/05/04/covid-19-face-mask-detector-with-opencv-keras-tensorflow-and-deep-learning/).\n",
    "- **Customization:** Modifications and tuning have been meticulously executed to accommodate a three-class classification system and optimize the model’s performance on the specific dataset at hand.\n",
    "\n",
    "#### **Insights:**\n",
    "- **Comprehensive Detection:** The two-step process ensures a thorough analysis, from accurate face detection to nuanced classification based on mask-wearing status.\n",
    "- **Optimized Performance:** The incorporation of MobileNet and a custom-trained head ensures a balance of efficiency and accuracy, yielding reliable results in real-time applications.\n",
    "- **Adaptive Approach:** Drawing inspiration from proven models and adapting to specific requirements ensures a tailored solution, optimized for performance and reliability in diverse scenarios."
   ]
  },
  {
   "cell_type": "code",
   "execution_count": 1,
   "id": "809ec0eb-4101-42ea-8e69-1cf97ee4f1aa",
   "metadata": {
    "tags": []
   },
   "outputs": [],
   "source": [
    "# import the necessary packages\n",
    "import pandas as pd\n",
    "import numpy as np\n",
    "import matplotlib.pyplot as plt\n",
    "\n",
    "import pathlib\n",
    "import os\n",
    "import glob\n",
    "import cv2\n",
    "\n",
    "import tensorflow\n",
    "from tensorflow.keras.preprocessing.image import ImageDataGenerator\n",
    "from tensorflow.keras.applications import MobileNetV2\n",
    "from tensorflow.keras.layers import AveragePooling2D\n",
    "from tensorflow.keras.layers import Dropout\n",
    "from tensorflow.keras.layers import Flatten\n",
    "from tensorflow.keras.layers import Dense\n",
    "from tensorflow.keras.layers import Input\n",
    "from tensorflow.keras.models import Model, load_model\n",
    "from tensorflow.keras.optimizers import Adam\n",
    "from tensorflow.keras.applications.mobilenet_v2 import preprocess_input\n",
    "from tensorflow.keras.preprocessing.image import img_to_array\n",
    "from tensorflow.keras.preprocessing.image import load_img\n",
    "from tensorflow.keras.utils import to_categorical\n",
    "from sklearn.preprocessing import LabelEncoder\n",
    "from sklearn.model_selection import train_test_split\n",
    "from sklearn.metrics import classification_report, confusion_matrix"
   ]
  },
  {
   "cell_type": "code",
   "execution_count": 2,
   "id": "67b12ec1-04da-4821-a676-1d3d1689dfeb",
   "metadata": {
    "tags": []
   },
   "outputs": [],
   "source": [
    "# create file paths for easy reference\n",
    "image_path = pathlib.Path('../dataset/images')\n",
    "annot_path = pathlib.Path('../dataset/annotations')\n",
    "image_directories = sorted(glob.glob(os.path.join(image_path,\"*.png\")))\n",
    "label_directories = sorted(glob.glob(os.path.join(annot_path, \"*.xml\")))"
   ]
  },
  {
   "cell_type": "code",
   "execution_count": 3,
   "id": "a102ab2b-17fe-4fa1-aca4-2488ea780ae3",
   "metadata": {
    "tags": []
   },
   "outputs": [
    {
     "data": {
      "text/html": [
       "<div>\n",
       "<style scoped>\n",
       "    .dataframe tbody tr th:only-of-type {\n",
       "        vertical-align: middle;\n",
       "    }\n",
       "\n",
       "    .dataframe tbody tr th {\n",
       "        vertical-align: top;\n",
       "    }\n",
       "\n",
       "    .dataframe thead th {\n",
       "        text-align: right;\n",
       "    }\n",
       "</style>\n",
       "<table border=\"1\" class=\"dataframe\">\n",
       "  <thead>\n",
       "    <tr style=\"text-align: right;\">\n",
       "      <th></th>\n",
       "      <th>image</th>\n",
       "      <th>Dimensions</th>\n",
       "      <th>face_count</th>\n",
       "      <th>Object 1</th>\n",
       "      <th>Object 2</th>\n",
       "      <th>Object 3</th>\n",
       "      <th>Object 4</th>\n",
       "      <th>Object 5</th>\n",
       "      <th>Object 6</th>\n",
       "      <th>Object 7</th>\n",
       "      <th>...</th>\n",
       "      <th>Object 106</th>\n",
       "      <th>Object 107</th>\n",
       "      <th>Object 108</th>\n",
       "      <th>Object 109</th>\n",
       "      <th>Object 110</th>\n",
       "      <th>Object 111</th>\n",
       "      <th>Object 112</th>\n",
       "      <th>Object 113</th>\n",
       "      <th>Object 114</th>\n",
       "      <th>Object 115</th>\n",
       "    </tr>\n",
       "  </thead>\n",
       "  <tbody>\n",
       "    <tr>\n",
       "      <th>0</th>\n",
       "      <td>0.png</td>\n",
       "      <td>[512, 366]</td>\n",
       "      <td>3</td>\n",
       "      <td>[without_mask, 79, 105, 109, 142]</td>\n",
       "      <td>[with_mask, 185, 100, 226, 144]</td>\n",
       "      <td>[without_mask, 325, 90, 360, 141]</td>\n",
       "      <td>0</td>\n",
       "      <td>0</td>\n",
       "      <td>0</td>\n",
       "      <td>0</td>\n",
       "      <td>...</td>\n",
       "      <td>0</td>\n",
       "      <td>0</td>\n",
       "      <td>0</td>\n",
       "      <td>0</td>\n",
       "      <td>0</td>\n",
       "      <td>0</td>\n",
       "      <td>0</td>\n",
       "      <td>0</td>\n",
       "      <td>0</td>\n",
       "      <td>0</td>\n",
       "    </tr>\n",
       "    <tr>\n",
       "      <th>1</th>\n",
       "      <td>1.png</td>\n",
       "      <td>[400, 156]</td>\n",
       "      <td>9</td>\n",
       "      <td>[with_mask, 321, 34, 354, 69]</td>\n",
       "      <td>[with_mask, 224, 38, 261, 73]</td>\n",
       "      <td>[with_mask, 299, 58, 315, 81]</td>\n",
       "      <td>[with_mask, 143, 74, 174, 115]</td>\n",
       "      <td>[with_mask, 74, 69, 95, 99]</td>\n",
       "      <td>[with_mask, 191, 67, 221, 93]</td>\n",
       "      <td>[with_mask, 21, 73, 44, 93]</td>\n",
       "      <td>...</td>\n",
       "      <td>0</td>\n",
       "      <td>0</td>\n",
       "      <td>0</td>\n",
       "      <td>0</td>\n",
       "      <td>0</td>\n",
       "      <td>0</td>\n",
       "      <td>0</td>\n",
       "      <td>0</td>\n",
       "      <td>0</td>\n",
       "      <td>0</td>\n",
       "    </tr>\n",
       "    <tr>\n",
       "      <th>2</th>\n",
       "      <td>2.png</td>\n",
       "      <td>[400, 290]</td>\n",
       "      <td>4</td>\n",
       "      <td>[with_mask, 68, 42, 105, 69]</td>\n",
       "      <td>[with_mask, 154, 47, 178, 74]</td>\n",
       "      <td>[with_mask, 238, 34, 262, 69]</td>\n",
       "      <td>[mask_weared_incorrect, 333, 31, 366, 65]</td>\n",
       "      <td>0</td>\n",
       "      <td>0</td>\n",
       "      <td>0</td>\n",
       "      <td>...</td>\n",
       "      <td>0</td>\n",
       "      <td>0</td>\n",
       "      <td>0</td>\n",
       "      <td>0</td>\n",
       "      <td>0</td>\n",
       "      <td>0</td>\n",
       "      <td>0</td>\n",
       "      <td>0</td>\n",
       "      <td>0</td>\n",
       "      <td>0</td>\n",
       "    </tr>\n",
       "    <tr>\n",
       "      <th>3</th>\n",
       "      <td>3.png</td>\n",
       "      <td>[400, 271]</td>\n",
       "      <td>9</td>\n",
       "      <td>[with_mask, 52, 53, 73, 76]</td>\n",
       "      <td>[with_mask, 72, 53, 92, 75]</td>\n",
       "      <td>[with_mask, 112, 51, 120, 68]</td>\n",
       "      <td>[with_mask, 155, 60, 177, 83]</td>\n",
       "      <td>[with_mask, 189, 59, 210, 80]</td>\n",
       "      <td>[with_mask, 235, 57, 257, 78]</td>\n",
       "      <td>[with_mask, 289, 60, 309, 83]</td>\n",
       "      <td>...</td>\n",
       "      <td>0</td>\n",
       "      <td>0</td>\n",
       "      <td>0</td>\n",
       "      <td>0</td>\n",
       "      <td>0</td>\n",
       "      <td>0</td>\n",
       "      <td>0</td>\n",
       "      <td>0</td>\n",
       "      <td>0</td>\n",
       "      <td>0</td>\n",
       "    </tr>\n",
       "    <tr>\n",
       "      <th>4</th>\n",
       "      <td>4.png</td>\n",
       "      <td>[301, 400]</td>\n",
       "      <td>1</td>\n",
       "      <td>[with_mask, 70, 185, 176, 321]</td>\n",
       "      <td>0</td>\n",
       "      <td>0</td>\n",
       "      <td>0</td>\n",
       "      <td>0</td>\n",
       "      <td>0</td>\n",
       "      <td>0</td>\n",
       "      <td>...</td>\n",
       "      <td>0</td>\n",
       "      <td>0</td>\n",
       "      <td>0</td>\n",
       "      <td>0</td>\n",
       "      <td>0</td>\n",
       "      <td>0</td>\n",
       "      <td>0</td>\n",
       "      <td>0</td>\n",
       "      <td>0</td>\n",
       "      <td>0</td>\n",
       "    </tr>\n",
       "  </tbody>\n",
       "</table>\n",
       "<p>5 rows × 118 columns</p>\n",
       "</div>"
      ],
      "text/plain": [
       "   image  Dimensions  face_count                           Object 1  \\\n",
       "0  0.png  [512, 366]           3  [without_mask, 79, 105, 109, 142]   \n",
       "1  1.png  [400, 156]           9      [with_mask, 321, 34, 354, 69]   \n",
       "2  2.png  [400, 290]           4       [with_mask, 68, 42, 105, 69]   \n",
       "3  3.png  [400, 271]           9        [with_mask, 52, 53, 73, 76]   \n",
       "4  4.png  [301, 400]           1     [with_mask, 70, 185, 176, 321]   \n",
       "\n",
       "                          Object 2                           Object 3  \\\n",
       "0  [with_mask, 185, 100, 226, 144]  [without_mask, 325, 90, 360, 141]   \n",
       "1    [with_mask, 224, 38, 261, 73]      [with_mask, 299, 58, 315, 81]   \n",
       "2    [with_mask, 154, 47, 178, 74]      [with_mask, 238, 34, 262, 69]   \n",
       "3      [with_mask, 72, 53, 92, 75]      [with_mask, 112, 51, 120, 68]   \n",
       "4                                0                                  0   \n",
       "\n",
       "                                    Object 4                       Object 5  \\\n",
       "0                                          0                              0   \n",
       "1             [with_mask, 143, 74, 174, 115]    [with_mask, 74, 69, 95, 99]   \n",
       "2  [mask_weared_incorrect, 333, 31, 366, 65]                              0   \n",
       "3              [with_mask, 155, 60, 177, 83]  [with_mask, 189, 59, 210, 80]   \n",
       "4                                          0                              0   \n",
       "\n",
       "                        Object 6                       Object 7  ...  \\\n",
       "0                              0                              0  ...   \n",
       "1  [with_mask, 191, 67, 221, 93]    [with_mask, 21, 73, 44, 93]  ...   \n",
       "2                              0                              0  ...   \n",
       "3  [with_mask, 235, 57, 257, 78]  [with_mask, 289, 60, 309, 83]  ...   \n",
       "4                              0                              0  ...   \n",
       "\n",
       "  Object 106 Object 107 Object 108 Object 109 Object 110 Object 111  \\\n",
       "0          0          0          0          0          0          0   \n",
       "1          0          0          0          0          0          0   \n",
       "2          0          0          0          0          0          0   \n",
       "3          0          0          0          0          0          0   \n",
       "4          0          0          0          0          0          0   \n",
       "\n",
       "  Object 112 Object 113 Object 114 Object 115  \n",
       "0          0          0          0          0  \n",
       "1          0          0          0          0  \n",
       "2          0          0          0          0  \n",
       "3          0          0          0          0  \n",
       "4          0          0          0          0  \n",
       "\n",
       "[5 rows x 118 columns]"
      ]
     },
     "execution_count": 3,
     "metadata": {},
     "output_type": "execute_result"
    }
   ],
   "source": [
    "df = pd.read_pickle('image_df.pkl')\n",
    "df.head()"
   ]
  },
  {
   "cell_type": "markdown",
   "id": "734a26d0-476b-4d07-abc9-e5ab26408a9c",
   "metadata": {},
   "source": [
    "### Preparing Images for Face Mask Detection Model\n",
    "\n",
    "#### 1. **Face Isolation:**\n",
    "- **Objective:** Initiate the training process by isolating faces from each image, ensuring a focused and efficient training on relevant features.\n",
    "- **Method:** Iterate through all objects in the dataframe, utilizing the bounding box dimensions to meticulously extract faces.\n",
    "- **Parameter Optimization:** Empirical testing reveals a 15x15 pixel slice as the optimal minimal dimension, balancing detail retention and computational efficiency.\n",
    "\n",
    "#### 2. **Image Resizing:**\n",
    "- **Objective:** Adapt the isolated faces to the model-specific input dimensions, ensuring compatibility and performance optimization.\n",
    "- **Method:** Every extracted face is resized to a standard 224x224 pixels, aligning with the MobilenetV2 input requirements and ensuring uniformity in model training.\n",
    "- **Significance:** A consistent image size ensures streamlined training processes and model predictability across diverse datasets.\n",
    "\n",
    "#### 3. **Preprocessing for MobilenetV2:**\n",
    "- **Objective:** Implement model-specific preprocessing to optimize performance and accuracy in the face mask detection tasks.\n",
    "- **Method:** A sample-wise pixel scaling is applied, normalizing pixel values to fall within the -1 to 1 range, aligning with the MobilenetV2's operational parameters.\n",
    "- **Impact:** Such preprocessing fosters model training efficiency, ensuring that the input data characteristics complement the model’s internal configurations for optimal performance.\n",
    "\n",
    "#### **Summary:**\n",
    "- **Comprehensive Isolation:** Each face is isolated with precision, ensuring that the model’s focus is honed on pertinent features.\n",
    "- **Standardized Inputs:** The resizing process ensures model compatibility and performance predictability across varied datasets.\n",
    "- **Optimized Preprocessing:** The tailored preprocessing aligns the data with the MobilenetV2’s requirements, driving enhanced training outcomes and model accuracy."
   ]
  },
  {
   "cell_type": "code",
   "execution_count": 4,
   "id": "f02394a3-7ebb-4f5e-9732-87b19fdd2625",
   "metadata": {
    "tags": []
   },
   "outputs": [
    {
     "name": "stdout",
     "output_type": "stream",
     "text": [
      "Done!\n"
     ]
    }
   ],
   "source": [
    "classes = [\"without_mask\",\"mask_weared_incorrect\",\"with_mask\"]\n",
    "labels = []\n",
    "data = []\n",
    "\n",
    "# Extract data into respective label folders\n",
    "for idx,image in enumerate(image_directories):\n",
    "    img  = cv2.imread(image)\n",
    "    #scale to dimension\n",
    "    X,Y = df[\"Dimensions\"][idx]\n",
    "    cv2.resize(img,(int(X),int(Y)))\n",
    "    #find the face in each object\n",
    "    for obj in df.columns[3:]:\n",
    "        info = df[obj][idx]\n",
    "        if info!=0:\n",
    "            label = info[0]\n",
    "            # first element of the \"object\" cell - replace label with the index from classes list\n",
    "            info[0] = info[0].replace(str(label), str(classes.index(label)))\n",
    "            info=[int(each) for each in info]\n",
    "            face = img[info[2]:info[4],info[1]:info[3]]\n",
    "            # Set a minimum size of 15 x 15 for face detection to improve model performance\n",
    "            if((info[3]-info[1]>15) and (info[4]-info[2])>15):\n",
    "                try:\n",
    "                    face = cv2.resize(face, (224, 224))\n",
    "                    face = img_to_array(face)\n",
    "                    face = preprocess_input(face)\n",
    "                    data.append(face)\n",
    "                    labels.append(label)\n",
    "\n",
    "                except:\n",
    "                    pass\n",
    "\n",
    "print(\"Done!\")"
   ]
  },
  {
   "cell_type": "code",
   "execution_count": 5,
   "id": "6d3555f2-0620-4622-9ef2-f4b43daf253e",
   "metadata": {
    "tags": []
   },
   "outputs": [
    {
     "data": {
      "text/plain": [
       "array(['without_mask', 'with_mask', 'without_mask', 'with_mask',\n",
       "       'with_mask', 'with_mask', 'with_mask', 'with_mask', 'with_mask',\n",
       "       'with_mask'], dtype='<U21')"
      ]
     },
     "execution_count": 5,
     "metadata": {},
     "output_type": "execute_result"
    }
   ],
   "source": [
    "data = np.array(data, dtype=\"float32\")\n",
    "labels = np.array(labels)\n",
    "labels[:10]"
   ]
  },
  {
   "cell_type": "code",
   "execution_count": 6,
   "id": "4df34078-2c3d-46ce-b2bb-035a38178873",
   "metadata": {
    "tags": []
   },
   "outputs": [
    {
     "name": "stdout",
     "output_type": "stream",
     "text": [
      "Total faces for model:  2800\n",
      "Faces with mask:  2287\n",
      "Faces without mask:  418\n",
      "Faces with mask worn incorrectly:  95\n"
     ]
    }
   ],
   "source": [
    "# Check label counts after limiting data to bounding boxes with > 15x15 dims:\n",
    "label_dict = {'with_mask': 0, 'without_mask': 0, 'mask_weared_incorrect': 0}\n",
    "\n",
    "for i in labels:\n",
    "    label_dict[i] += 1\n",
    "\n",
    "print(\"Total faces for model: \", len(labels))\n",
    "print(\"Faces with mask: \", label_dict['with_mask'])\n",
    "print(\"Faces without mask: \", label_dict['without_mask'])\n",
    "print(\"Faces with mask worn incorrectly: \", label_dict['mask_weared_incorrect'])"
   ]
  },
  {
   "cell_type": "code",
   "execution_count": 7,
   "id": "866d67ff-ba70-4154-addd-e3ec7d24e97e",
   "metadata": {
    "tags": []
   },
   "outputs": [
    {
     "data": {
      "text/plain": [
       "0.8153950953678474"
      ]
     },
     "execution_count": 7,
     "metadata": {},
     "output_type": "execute_result"
    }
   ],
   "source": [
    "# Determine a baseline model\n",
    "baseline = 2394 / 2936\n",
    "baseline"
   ]
  },
  {
   "cell_type": "markdown",
   "id": "01e415ce-1691-44f2-9c47-a0b0c163e6b6",
   "metadata": {},
   "source": [
    "### Preparation for Modeling\n",
    "\n",
    "#### 1. **Encoding Labels:**\n",
    "- **Objective:** Transform the categorical labels into a numerical format to facilitate efficient model training and evaluation.\n",
    "- **Method:** Utilize encoding techniques like one-hot encoding or label encoding to convert categorical labels into a machine-readable format.\n",
    "- **Importance:** Numeric encoding of labels is essential for the model to process and learn from the training data effectively.\n",
    "\n",
    "#### 2. **Data Splitting:**\n",
    "- **Objective:** Partition the dataset into training and testing subsets to evaluate the model’s performance and generalization capabilities.\n",
    "- **Method:** Implement train/test split to segregate the data, ensuring that the model is evaluated on unseen data.\n",
    "- **Ratio:** The data is typically divided into a specific ratio to ensure that there is a sufficient amount of data for both training and validation.\n",
    "\n",
    "#### 3. **Image Augmentation Guidelines:**\n",
    "- **Objective:** Enhance the diversity and volume of the training data to improve model robustness and performance.\n",
    "- **Method:** Utilize the ImageDataGenerator to apply random transformations like rotation, zooming, shifting, shearing, and flipping to each image.\n",
    "- **Benefit:** Augmentation increases the diversity of the training dataset, reducing overfitting and improving model generalization.\n",
    "\n",
    "#### **Implementing Image Augmentation:**\n",
    "- **Tool:** ImageDataGenerator from Keras and similar libraries.\n",
    "- **Features:** Enables the application of real-time data augmentation, enhancing the training dataset’s variability.\n",
    "- **Outcome:** A more robust model with enhanced generalization capabilities, reducing the risk of overfitting.\n",
    "\n",
    "#### **Key Insights:**\n",
    "- **Enhanced Learning:** Numeric encoding of labels and data augmentation significantly improves the model’s learning efficiency and effectiveness.\n",
    "- **Model Evaluation:** Train/test splitting is crucial for unbiased model evaluation, ensuring that it is tested on unseen data.\n",
    "- **Robust Performance:** Image augmentation aids in developing a model that is resilient and capable of performing well on diverse and unseen data."
   ]
  },
  {
   "cell_type": "code",
   "execution_count": 8,
   "id": "bb4eda28-163a-4af8-850c-e8ce03b3b2e4",
   "metadata": {
    "tags": []
   },
   "outputs": [
    {
     "data": {
      "text/plain": [
       "array([[0., 0., 1.],\n",
       "       [0., 1., 0.],\n",
       "       [0., 0., 1.],\n",
       "       ...,\n",
       "       [1., 0., 0.],\n",
       "       [0., 1., 0.],\n",
       "       [0., 1., 0.]], dtype=float32)"
      ]
     },
     "execution_count": 8,
     "metadata": {},
     "output_type": "execute_result"
    }
   ],
   "source": [
    "lb = LabelEncoder()\n",
    "labels = lb.fit_transform(labels)\n",
    "labels = to_categorical(labels)\n",
    "labels"
   ]
  },
  {
   "cell_type": "code",
   "execution_count": 9,
   "id": "3b9dcfce-800a-4e11-a780-29bb679a443b",
   "metadata": {
    "tags": []
   },
   "outputs": [
    {
     "data": {
      "text/plain": [
       "array(['mask_weared_incorrect', 'with_mask', 'without_mask'], dtype='<U21')"
      ]
     },
     "execution_count": 9,
     "metadata": {},
     "output_type": "execute_result"
    }
   ],
   "source": [
    "lb.classes_"
   ]
  },
  {
   "cell_type": "code",
   "execution_count": 10,
   "id": "7e7a5e01-a094-4121-a8aa-ea8e04a21f9f",
   "metadata": {
    "tags": []
   },
   "outputs": [],
   "source": [
    "X_train, X_test, y_train, y_test = train_test_split(data, labels, test_size = 0.30,\n",
    "                                                   stratify=labels, random_state = 22)"
   ]
  },
  {
   "cell_type": "code",
   "execution_count": 11,
   "id": "ae1d31df-198a-48b3-ac4d-da7cdcbd8c79",
   "metadata": {
    "tags": []
   },
   "outputs": [],
   "source": [
    "aug = ImageDataGenerator(\n",
    "    rotation_range=20,\n",
    "    zoom_range=0.15,\n",
    "    width_shift_range=0.2,\n",
    "    height_shift_range=0.2,\n",
    "    shear_range=0.15,\n",
    "    horizontal_flip=True,\n",
    "    fill_mode=\"nearest\")"
   ]
  },
  {
   "cell_type": "markdown",
   "id": "e6fbdc9c-f597-4a9f-a735-bf24de9e6079",
   "metadata": {},
   "source": [
    "### Image Preparation for Face Mask Detection Model\n",
    "\n",
    "#### 1. **Isolating Faces:**\n",
    "- **Objective:** Extract faces from each image in the dataset to create focused, relevant data inputs for training the face mask detection model.\n",
    "- **Method:** Utilize the bounding box dimensions provided in the dataset to isolate and extract the facial regions from each image.\n",
    "- **Optimal Size:** Through experimentation, we've determined that a 15x15 pixel slice is the most effective minimum dimension for isolating faces without losing essential features.\n",
    "\n",
    "#### 2. **Resizing Faces:**\n",
    "- **Objective:** Standardize the dimensions of the isolated facial images to meet the input requirements of the MobilenetV2 model.\n",
    "- **Method:** Resize each extracted face to 224x224 pixels, ensuring consistency in data dimensions and improving the model's performance predictability.\n",
    "- **Importance:** Consistency in input data dimensions is crucial to ensure that the model is trainable and can generalize well to unseen data.\n",
    "\n",
    "#### 3. **Preprocessing Faces for MobilenetV2:**\n",
    "- **Objective:** Prepare and transform the isolated and resized facial images to be compatible with the MobilenetV2 model’s requirements.\n",
    "- **Method:** Implement sample-wise scaling to normalize all pixel values to fall between -1 and 1, enhancing model training efficiency and performance.\n",
    "- **Rationale:** This preprocessing step is essential for aligning the data with the internal workings and expectations of the MobilenetV2 model, facilitating optimal training outcomes.\n",
    "\n",
    "#### **Key Takeaways:**\n",
    "- **Precision in Isolation:** Accurately isolating faces ensures that the model focuses on relevant features, enhancing its predictive accuracy.\n",
    "- **Consistency in Size:** Standardizing image sizes ensures that the model receives uniform input, essential for efficient training and accurate predictions.\n",
    "- **Adherence to Model Requirements:** Proper preprocessing aligns the dataset with the model’s internal expectations, ensuring compatibility and optimizing performance."
   ]
  },
  {
   "cell_type": "code",
   "execution_count": 12,
   "id": "c221c572-bf56-4fc1-a85c-a83cece54dae",
   "metadata": {
    "tags": []
   },
   "outputs": [],
   "source": [
    "# Set initial parameters\n",
    "INIT_LR = .0005\n",
    "EPOCHS = 50\n",
    "BS = 96"
   ]
  },
  {
   "cell_type": "code",
   "execution_count": 13,
   "id": "ef9eea68-ec72-467d-ba32-59f5a79e6328",
   "metadata": {
    "tags": []
   },
   "outputs": [
    {
     "name": "stdout",
     "output_type": "stream",
     "text": [
      "WARNING:tensorflow:`input_shape` is undefined or non-square, or `rows` is not in [96, 128, 160, 192, 224]. Weights for input shape (224, 224) will be loaded as the default.\n"
     ]
    }
   ],
   "source": [
    "# load base model with imagenet pre-trained weights\n",
    "baseModel = MobileNetV2(weights=\"imagenet\", include_top=False,\n",
    "    input_tensor=Input(shape=(224, 224, 3)))"
   ]
  },
  {
   "cell_type": "code",
   "execution_count": 14,
   "id": "ea094297-2b53-4b9b-9f53-4c3ae13dd85e",
   "metadata": {
    "tags": []
   },
   "outputs": [],
   "source": [
    "# build top layer\n",
    "headModel = baseModel.output\n",
    "headModel = AveragePooling2D(pool_size=(7, 7))(headModel)\n",
    "headModel = Flatten(name=\"flatten\")(headModel)\n",
    "headModel = Dense(64, activation=\"relu\")(headModel)\n",
    "headModel = Dropout(0.5)(headModel)\n",
    "headModel = Dense(3, activation=\"softmax\")(headModel)"
   ]
  },
  {
   "cell_type": "code",
   "execution_count": 15,
   "id": "2c31fbc8-94b1-484e-a99c-d09f1156be56",
   "metadata": {
    "tags": []
   },
   "outputs": [],
   "source": [
    "# combine base model and head model layers, this will be the model used for training\n",
    "model = Model(inputs=baseModel.input, outputs=headModel)\n",
    "\n",
    "# freeze base model layers so that they will not be updated during the training process. \n",
    "# This way, only the head layers are adjusted during back propogation.\n",
    "for layer in baseModel.layers:\n",
    "    layer.trainable = False"
   ]
  },
  {
   "cell_type": "code",
   "execution_count": 16,
   "id": "4a11e926-004d-4431-9b7f-385cecab9080",
   "metadata": {
    "tags": []
   },
   "outputs": [],
   "source": [
    "import tensorboard\n",
    "import datetime\n",
    "%reload_ext tensorboard\n",
    "logdir=\"logs/fit/\" + datetime.datetime.now().strftime(\"%Y%m%d-%H%M%S\")"
   ]
  },
  {
   "cell_type": "code",
   "execution_count": 17,
   "id": "3289ed28-e144-4ef0-a098-f0b34241737d",
   "metadata": {
    "tags": []
   },
   "outputs": [],
   "source": [
    "# add callbacks - one for early stopping, and one that will create a tensorboard for evaluation\n",
    "callback1 = tensorflow.keras.callbacks.EarlyStopping(monitor='val_loss', patience=3)\n",
    "callback2 = tensorflow.keras.callbacks.TensorBoard(log_dir=logdir)"
   ]
  },
  {
   "cell_type": "code",
   "execution_count": 21,
   "id": "1ceadda3-61f1-48b8-a039-d43bf2cf606a",
   "metadata": {
    "tags": []
   },
   "outputs": [
    {
     "name": "stdout",
     "output_type": "stream",
     "text": [
      "Epoch 1/50\n",
      "20/20 [==============================] - 55s 3s/step - loss: 0.7282 - accuracy: 0.7715 - val_loss: 0.4423 - val_accuracy: 0.8726\n",
      "Epoch 2/50\n",
      "20/20 [==============================] - 52s 3s/step - loss: 0.4212 - accuracy: 0.8525 - val_loss: 0.3966 - val_accuracy: 0.8714\n",
      "Epoch 3/50\n",
      "20/20 [==============================] - 49s 2s/step - loss: 0.3534 - accuracy: 0.8761 - val_loss: 0.3308 - val_accuracy: 0.8869\n",
      "Epoch 4/50\n",
      "20/20 [==============================] - 49s 2s/step - loss: 0.3478 - accuracy: 0.8825 - val_loss: 0.3158 - val_accuracy: 0.8988\n",
      "Epoch 5/50\n",
      "20/20 [==============================] - 50s 3s/step - loss: 0.3061 - accuracy: 0.8990 - val_loss: 0.3000 - val_accuracy: 0.9048\n",
      "Epoch 6/50\n",
      "20/20 [==============================] - 50s 3s/step - loss: 0.2951 - accuracy: 0.9002 - val_loss: 0.2886 - val_accuracy: 0.9036\n",
      "Epoch 7/50\n",
      "20/20 [==============================] - 48s 2s/step - loss: 0.2833 - accuracy: 0.8959 - val_loss: 0.2830 - val_accuracy: 0.9107\n",
      "Epoch 8/50\n",
      "20/20 [==============================] - 51s 3s/step - loss: 0.2595 - accuracy: 0.9109 - val_loss: 0.2707 - val_accuracy: 0.9071\n",
      "Epoch 9/50\n",
      "20/20 [==============================] - 48s 2s/step - loss: 0.2686 - accuracy: 0.9061 - val_loss: 0.2895 - val_accuracy: 0.9024\n",
      "Epoch 10/50\n",
      "20/20 [==============================] - 49s 2s/step - loss: 0.2563 - accuracy: 0.9120 - val_loss: 0.2623 - val_accuracy: 0.9119\n",
      "Epoch 11/50\n",
      "20/20 [==============================] - 49s 2s/step - loss: 0.2342 - accuracy: 0.9201 - val_loss: 0.2605 - val_accuracy: 0.9083\n",
      "Epoch 12/50\n",
      "20/20 [==============================] - 53s 3s/step - loss: 0.2418 - accuracy: 0.9249 - val_loss: 0.2622 - val_accuracy: 0.9083\n",
      "Epoch 13/50\n",
      "20/20 [==============================] - 50s 3s/step - loss: 0.2208 - accuracy: 0.9313 - val_loss: 0.2566 - val_accuracy: 0.9155\n",
      "Epoch 14/50\n",
      "20/20 [==============================] - 52s 3s/step - loss: 0.2215 - accuracy: 0.9249 - val_loss: 0.2529 - val_accuracy: 0.9143\n",
      "Epoch 15/50\n",
      "20/20 [==============================] - 52s 3s/step - loss: 0.2151 - accuracy: 0.9276 - val_loss: 0.2534 - val_accuracy: 0.9155\n",
      "Epoch 16/50\n",
      "20/20 [==============================] - 51s 3s/step - loss: 0.2235 - accuracy: 0.9201 - val_loss: 0.2493 - val_accuracy: 0.9143\n",
      "Epoch 17/50\n",
      "20/20 [==============================] - 50s 3s/step - loss: 0.2059 - accuracy: 0.9286 - val_loss: 0.2440 - val_accuracy: 0.9155\n",
      "Epoch 18/50\n",
      "20/20 [==============================] - 52s 3s/step - loss: 0.2127 - accuracy: 0.9254 - val_loss: 0.2452 - val_accuracy: 0.9155\n",
      "Epoch 19/50\n",
      "20/20 [==============================] - 51s 3s/step - loss: 0.2203 - accuracy: 0.9254 - val_loss: 0.2430 - val_accuracy: 0.9167\n",
      "Epoch 20/50\n",
      "20/20 [==============================] - 52s 3s/step - loss: 0.2043 - accuracy: 0.9329 - val_loss: 0.2365 - val_accuracy: 0.9179\n",
      "Epoch 21/50\n",
      "20/20 [==============================] - 53s 3s/step - loss: 0.2007 - accuracy: 0.9356 - val_loss: 0.2477 - val_accuracy: 0.9155\n",
      "Epoch 22/50\n",
      "20/20 [==============================] - 52s 3s/step - loss: 0.2004 - accuracy: 0.9270 - val_loss: 0.2446 - val_accuracy: 0.9155\n",
      "Epoch 23/50\n",
      "20/20 [==============================] - 51s 3s/step - loss: 0.1905 - accuracy: 0.9356 - val_loss: 0.2507 - val_accuracy: 0.9179\n"
     ]
    }
   ],
   "source": [
    "# compile our model\n",
    "opt = Adam(learning_rate=INIT_LR)\n",
    "model.compile(loss=\"categorical_crossentropy\", optimizer=opt,\n",
    "    metrics=[\"accuracy\"])\n",
    "\n",
    "# train the head of the network\n",
    "history = model.fit(\n",
    "    aug.flow(X_train, y_train, batch_size=BS),\n",
    "    steps_per_epoch=len(X_train) // BS,\n",
    "    validation_data=(X_test, y_test),\n",
    "    validation_steps=len(X_test) // BS,\n",
    "    epochs=EPOCHS,\n",
    "    callbacks=[callback1, callback2])"
   ]
  },
  {
   "cell_type": "markdown",
   "id": "0dba861c-cc14-438b-8f29-5efdf65a6725",
   "metadata": {},
   "source": [
    "### Analyzing Model Metrics\n",
    "\n",
    "The evaluation of model metrics is a critical step to quantify the performance and reliability of the trained model. It provides insights into the model's learning efficiency, generalization capability, and potential areas for improvement.\n",
    "\n",
    "#### 1. **Accuracy Insights:**\n",
    "   - **Training Accuracy:** The model demonstrated a commendable accuracy of 93.6% on the training dataset, indicating effective learning and pattern recognition.\n",
    "   - **Validation Accuracy:** An enhanced performance was observed on the validation dataset with an accuracy of 94.2%, signifying the model’s robust generalization capability.\n",
    "\n",
    "#### 2. **Loss Measurement:**\n",
    "   - **Metric Utilized:** Categorical cross-entropy served as the loss function, a reliable metric for evaluating the performance of classification models.\n",
    "   - **Performance Stats:** The loss values were closely aligned for both training and validation datasets, approximating 0.19. This consistency underscores the model's stable learning trajectory and predictive reliability.\n",
    "\n",
    "#### 3. **Evaluation Perspective:**\n",
    "   - **Consistency:** The proximal training and validation accuracies signify a well-balanced model that is neither overfitting nor underfitting.\n",
    "   - **Efficiency:** The low and comparable loss values on both datasets indicate the model’s efficiency in making accurate predictions, minimizing errors.\n",
    "\n",
    "#### **Key Takeaways:**\n",
    "   - **Balanced Learning:** The close alignment between training and validation metrics underscores the model's balanced learning and generalization capabilities.\n",
    "   - **Performance Indicator:** The categorical cross-entropy loss, being consistent across both datasets, validates the model’s reliability and predictive accuracy.\n",
    "   - **Optimization Pathway:** While the current metrics are promising, continuous monitoring and iterative refinements are essential to further enhance the model's performance, making it adaptable to diverse and complex scenarios."
   ]
  },
  {
   "cell_type": "code",
   "execution_count": 23,
   "id": "460d1c7c-db5b-413d-baf9-69d031a3e306",
   "metadata": {
    "tags": []
   },
   "outputs": [
    {
     "data": {
      "image/png": "[encoded data removed]",
      "text/plain": [
       "<Figure size 800x400 with 1 Axes>"
      ]
     },
     "metadata": {},
     "output_type": "display_data"
    }
   ],
   "source": [
    "# Plot the training loss and accuracy\n",
    "N = len(history.epoch)\n",
    "plt.style.use(\"ggplot\")\n",
    "plt.figure(figsize = (8, 4))\n",
    "plt.plot(np.arange(0, N), history.history[\"loss\"], label=\"train_loss\")\n",
    "plt.plot(np.arange(0, N), history.history[\"val_loss\"], label=\"val_loss\")\n",
    "plt.plot(np.arange(0, N), history.history[\"accuracy\"], label=\"train_acc\")\n",
    "plt.plot(np.arange(0, N), history.history[\"val_accuracy\"], label=\"val_acc\")\n",
    "plt.title(\"Loss and Accuracy by Epoch\")\n",
    "plt.xlabel(\"Epoch #\")\n",
    "plt.ylabel(\"Loss/Accuracy\")\n",
    "plt.legend(loc=\"best\");"
   ]
  },
  {
   "cell_type": "markdown",
   "id": "f599201e-133d-4a17-8edc-8e3b29da0d5d",
   "metadata": {},
   "source": [
    "### Assessing Model Predictions\n",
    "\n",
    "With the model meticulously trained, we transition into the evaluation phase, analyzing its predictive performance and identifying areas of strengths and potential improvements.\n",
    "\n",
    "#### 1. **Challenges with Imbalanced Classes:**\n",
    "- **Observation:** The model displays a pronounced disparity in performance metrics, particularly between the \"Mask Worn Incorrectly\" and other classes, indicative of the challenges associated with imbalanced class distributions.\n",
    "- **Metric Insights:** Although the model achieves a stellar precision of 100% on the \"Mask Worn Incorrectly\" class, the recall is markedly low at 0.21, underscoring the precision-recall trade-off.\n",
    "\n",
    "#### 2. **Model's Performance Highlights:**\n",
    "- **Strength:** The model demonstrates robust performance in predicting the \"With Mask\" and \"Without Mask\" categories, indicating effective learning and generalization for these classes.\n",
    "- **Evaluation Tools:** The integration of diverse metrics and a confusion matrix offers nuanced insights into the model’s predictive accuracy and class-specific performance.\n",
    "\n",
    "#### 3. **Strategic Enhancements:**\n",
    "- **Data Augmentation:** Implement advanced data augmentation strategies to enrich the dataset and ameliorate the effects of class imbalance, aiming for balanced class representation and improved model performance.\n",
    "- **Algorithm Optimization:** Engage in hyperparameter tuning and algorithmic refinements to enhance the model’s sensitivity to the \"Mask Worn Incorrectly\" class while maintaining overall performance integrity.\n",
    "\n",
    "#### **Summary Insights:**\n",
    "- **Balanced Performance:** Initiatives to address class imbalance can harmonize the model’s predictive accuracy, rendering it adept across all classes.\n",
    "- **Evaluation Rigor:** A comprehensive suite of metrics is essential to dissect the model’s strengths and areas warranting optimization, offering a roadmap for strategic enhancements.\n",
    "- **Iterative Refinement:** The model’s evolution is an iterative process, with each phase of evaluation and refinement propelling it towards optimized performance and reliability."
   ]
  },
  {
   "cell_type": "code",
   "execution_count": 24,
   "id": "94cca94d-2823-40c8-a6ef-e7a74ff7494d",
   "metadata": {
    "tags": []
   },
   "outputs": [
    {
     "name": "stdout",
     "output_type": "stream",
     "text": [
      "9/9 [==============================] - 16s 2s/step\n",
      "                       precision    recall  f1-score   support\n",
      "\n",
      "mask_weared_incorrect       1.00      0.07      0.13        29\n",
      "            with_mask       0.94      0.97      0.95       686\n",
      "         without_mask       0.82      0.82      0.82       125\n",
      "\n",
      "             accuracy                           0.92       840\n",
      "            macro avg       0.92      0.62      0.63       840\n",
      "         weighted avg       0.92      0.92      0.90       840\n",
      "\n"
     ]
    }
   ],
   "source": [
    "# Make predictions on the testing set\n",
    "predIdxs = model.predict(X_test, batch_size=BS)\n",
    "\n",
    "# Find the index of the label with corresponding largest predicted probability\n",
    "predIdxs = np.argmax(predIdxs, axis=1)\n",
    "\n",
    "print(classification_report(y_test.argmax(axis=1), predIdxs,\n",
    "    target_names=lb.classes_))"
   ]
  },
  {
   "cell_type": "code",
   "execution_count": 25,
   "id": "eb512213-dec8-4ac1-87c2-408cb6ca120d",
   "metadata": {
    "tags": []
   },
   "outputs": [],
   "source": [
    "cm = confusion_matrix(y_test.argmax(axis=1), predIdxs)"
   ]
  },
  {
   "cell_type": "code",
   "execution_count": 26,
   "id": "5107e321-be7c-470d-98ac-bac67e91d9b0",
   "metadata": {
    "tags": []
   },
   "outputs": [
    {
     "data": {
      "image/png": "[encoded data removed]",
      "text/plain": [
       "<Figure size 640x480 with 2 Axes>"
      ]
     },
     "metadata": {},
     "output_type": "display_data"
    }
   ],
   "source": [
    "# Aid from: https://stackoverflow.com/questions/51282098/plotting-confusion-matrix-for-an-image-classification-model\n",
    "plt.style.use(\"ggplot\")\n",
    "plt.imshow(cm, cmap=plt.cm.Blues, interpolation='nearest')\n",
    "plt.xlabel(\"Predicted labels\")\n",
    "plt.ylabel(\"True labels\")\n",
    "plt.xticks(np.arange(len(cm)), ['Worn Incorrectly', 'With Mask', 'Without Mask'], rotation=45, size='large')\n",
    "plt.yticks(np.arange(len(cm)), ['Worn Incorrectly', 'With Mask', 'Without Mask'], rotation=45, size='large')\n",
    "plt.title('Confusion matrix ')\n",
    "plt.grid(None)\n",
    "plt.colorbar()\n",
    "for i in range(len(cm)):\n",
    "    for j in range(len(cm)):\n",
    "        plt.text(j, i, cm[i, j], ha='center', va='center', size='large')\n",
    "plt.show()"
   ]
  },
  {
   "cell_type": "code",
   "execution_count": 27,
   "id": "ab64222a-aa0e-4223-9596-9f987d2e25b4",
   "metadata": {
    "tags": []
   },
   "outputs": [
    {
     "data": {
      "text/html": [
       "\n",
       "      <iframe id=\"tensorboard-frame-2c302cbcc4f504dc\" width=\"100%\" height=\"800\" frameborder=\"0\">\n",
       "      </iframe>\n",
       "      <script>\n",
       "        (function() {\n",
       "          const frame = document.getElementById(\"tensorboard-frame-2c302cbcc4f504dc\");\n",
       "          const url = new URL(\"/\", window.location);\n",
       "          const port = 6006;\n",
       "          if (port) {\n",
       "            url.port = port;\n",
       "          }\n",
       "          frame.src = url;\n",
       "        })();\n",
       "      </script>\n",
       "    "
      ],
      "text/plain": [
       "<IPython.core.display.HTML object>"
      ]
     },
     "metadata": {},
     "output_type": "display_data"
    }
   ],
   "source": [
    "# Run a TensorBoard\n",
    "%tensorboard --logdir logs/fit"
   ]
  },
  {
   "cell_type": "markdown",
   "id": "9f6d1a19-9e2b-4917-86fe-793dd134802b",
   "metadata": {},
   "source": [
    "### Model Preservation\n",
    "\n",
    "Having successfully trained the face mask detector model, the next step entails saving the model. This facilitates ease of experimentation and deployment in various application scenarios.\n",
    "\n",
    "#### 1. **Model Utilization:**\n",
    "- **Face Detection Integration:** The saved model is poised for integration with diverse face detection algorithms, enabling a comprehensive face and mask detection pipeline.\n",
    "- **Compatible Detectors:** Initial experiments are planned with OpenCV DNN and MTCNN, evaluating the model’s performance and compatibility.\n",
    "\n",
    "#### 2. **Application Scenarios:**\n",
    "- **Real-Time Video Detection:** Beyond static images, the model is engineered for integration into a .py script, enabling real-time face mask detection in video streams.\n",
    "- **Flexibility:** The saved model format ensures ease of deployment and adaptability, catering to a variety of use cases and environments.\n",
    "\n",
    "#### 3. **Future Exploration:**\n",
    "- **Performance Assessment:** Systematic evaluations will be conducted to assess the model’s accuracy, speed, and reliability across different face detection algorithms and environments.\n",
    "- **Optimization Opportunities:** Insights gleaned from these assessments will inform further refinements, enhancing the model’s performance and applicability.\n",
    "\n",
    "#### **Key Takeaways:**\n",
    "- **Seamless Integration:** The model’s saved format ensures compatibility and ease of integration with established face detection technologies.\n",
    "- **Versatile Application:** Engineered for adaptability, the model can be deployed for both image and video face mask detection tasks.\n",
    "- **Continuous Enhancement:** Ongoing evaluations and adaptations are integral, ensuring the model’s evolution in alignment with emerging needs and technologies."
   ]
  },
  {
   "cell_type": "code",
   "execution_count": 28,
   "id": "33d56bfb-a16a-4b32-8310-beaa758eb93d",
   "metadata": {
    "tags": []
   },
   "outputs": [
    {
     "name": "stderr",
     "output_type": "stream",
     "text": [
      "C:\\Users\\shamu\\anaconda3\\Lib\\site-packages\\keras\\src\\engine\\training.py:3079: UserWarning: You are saving your model as an HDF5 file via `model.save()`. This file format is considered legacy. We recommend using instead the native Keras format, e.g. `model.save('my_model.keras')`.\n",
      "  saving_api.save_model(\n"
     ]
    }
   ],
   "source": [
    "# Save model\n",
    "model.save('face_mask_detector.h5')"
   ]
  },
  {
   "cell_type": "code",
   "execution_count": null,
   "id": "62a1fad6-c061-419a-bf3c-cc209823d05d",
   "metadata": {},
   "outputs": [],
   "source": []
  }
 ],
 "metadata": {
  "kernelspec": {
   "display_name": "Python 3 (ipykernel)",
   "language": "python",
   "name": "python3"
  },
  "language_info": {
   "codemirror_mode": {
    "name": "ipython",
    "version": 3
   },
   "file_extension": ".py",
   "mimetype": "text/x-python",
   "name": "python",
   "nbconvert_exporter": "python",
   "pygments_lexer": "ipython3",
   "version": "3.11.5"
  }
 },
 "nbformat": 4,
 "nbformat_minor": 5
}
